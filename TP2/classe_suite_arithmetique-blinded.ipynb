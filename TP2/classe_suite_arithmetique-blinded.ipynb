{
 "cells": [
  {
   "cell_type": "markdown",
   "metadata": {},
   "source": [
    "## La suite arithmétique\n",
    "Une suite arithmétique est définie comme suit : \n",
    "\n",
    "pour tout entier naturel $n$, $u_{n+1} = u_{n} + r$.\n",
    "\n",
    "L'objectif est de créer une classe qui construit tous les éléments de cette suite arithmétique, pour un $n$ donné. Les paramètres de cette suite sont : l'état initial $u_0$, la raison $r$ et le nombre d'éléments à calculer $n$. Créer la classe avec les éléments suivants :\n",
    "\n",
    "- une fonction `__init__` qui prend comme argument la raison : ce sera un attribut de la classe.\n",
    "- une méthode `build` qui construit la suite et qui prend comme argument l'état initial $u_0$ et le nombre $n$ d'éléments à construire. Cette méthode doit stocker les éléments dans une liste qui sera un attribut de la classe.\n",
    "- une méthode `get_values` qui est un accesseur à la liste créée avec la méthode `build`. **Attention à la gestion de l'attribut de résultat !**"
   ]
  },
  {
   "cell_type": "code",
   "execution_count": 1,
   "metadata": {},
   "outputs": [],
   "source": [
    "class SuiteArithmetique():\n",
    "    \n",
    "    \"\"\"\n",
    "    Fonction qui calcule les éléments d'une suite arithmétique\n",
    "    \n",
    "    à compléter .....\n",
    "    \"\"\"\n",
    "    def __init__(self, raison):\n",
    "        \"\"\"\n",
    "        ...\n",
    "        \"\"\"\n",
    "        pass\n",
    "        \n",
    "    def build(self, u_initial, nb_element):\n",
    "        \"\"\"\n",
    "        ...\n",
    "        \"\"\"\n",
    "        pass\n",
    "            \n",
    "    def get_values(self):\n",
    "        \"\"\"\n",
    "        ...\n",
    "        \"\"\"\n",
    "        pass"
   ]
  },
  {
   "cell_type": "code",
   "execution_count": 2,
   "metadata": {},
   "outputs": [],
   "source": [
    "suite = SuiteArithmetique(5)"
   ]
  },
  {
   "cell_type": "code",
   "execution_count": null,
   "metadata": {},
   "outputs": [],
   "source": []
  }
 ],
 "metadata": {
  "kernelspec": {
   "display_name": "Python 3",
   "language": "python",
   "name": "python3"
  },
  "language_info": {
   "codemirror_mode": {
    "name": "ipython",
    "version": 3
   },
   "file_extension": ".py",
   "mimetype": "text/x-python",
   "name": "python",
   "nbconvert_exporter": "python",
   "pygments_lexer": "ipython3",
   "version": "3.7.3"
  }
 },
 "nbformat": 4,
 "nbformat_minor": 2
}
