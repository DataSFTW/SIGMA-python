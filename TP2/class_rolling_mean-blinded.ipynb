{
 "cells": [
  {
   "cell_type": "code",
   "execution_count": 1,
   "metadata": {},
   "outputs": [
    {
     "data": {
      "text/html": [
       "<style>.container { width:100% !important; }</style>"
      ],
      "text/plain": [
       "<IPython.core.display.HTML object>"
      ]
     },
     "metadata": {},
     "output_type": "display_data"
    }
   ],
   "source": [
    "# import used packages\n",
    "import numpy as np\n",
    "\n",
    "# Set jupyter display in full screen\n",
    "from IPython.core.display import display, HTML\n",
    "display(HTML(\"<style>.container { width:100% !important; }</style>\"))\n",
    "\n",
    "# Import Matplotlib pyplot package to visualize data\n",
    "import matplotlib.pyplot as plt\n",
    "%matplotlib inline"
   ]
  },
  {
   "cell_type": "code",
   "execution_count": 2,
   "metadata": {},
   "outputs": [],
   "source": [
    "# Generate data following normal distribution\n",
    "n = 10000 # number of generated points\n",
    "mu = 0    # Mean of the distribution\n",
    "sig = 1   # Standard deviation from the mean\n",
    "\n",
    "# Generate data\n",
    "data = np.random.normal(mu, sig, n)"
   ]
  },
  {
   "cell_type": "markdown",
   "metadata": {},
   "source": [
    "Vous devez adapter le code ci-dessous afin de le mettre dans la classe RollingMean. A vous de choisir parmi les 3 paramètres, lesquels sont en attributs de la classe (donc défini dans la fonction `__init__` et lesquels sont des paramètres de la méthode `run`. Il n'y a pas forcément qu'une seule bonne solution, suivant l'objectif que vous vouslez donner à votre classe et à son utilisation, plusieurs implémentations sont possibles.\n",
    "\n",
    "Code calcul de la moyenne glissante à partir des paramètres connus suivant : `data`, `window` et `centering`."
   ]
  },
  {
   "cell_type": "raw",
   "metadata": {},
   "source": [
    "\"\"\"\n",
    "# Initialize mean list with numpy NaN variables (according to the size of the windows and centering option)\n",
    "initRange = window - 1\n",
    "if centering:\n",
    "    initRange = initRange // 2\n",
    "mean = [np.nan for i in range(initRange)]\n",
    "\n",
    "# Loop over X to compute means and fill mean dict. Be carefull with the loop start and stop\n",
    "for i in range(window, len(data)+1):\n",
    "    mean.append(data[i-window:i].mean())\n",
    "\n",
    "# fill last missing value of mean list with NaN\n",
    "mean.extend([np.nan for i in range(len(data) - len(mean))])\n",
    "\n",
    "# Return numpy array with mean values. !! SHALL HAVE SAME DIMENSIONS AS INPUT X !!\n",
    "means = np.array(mean)\n",
    "\"\"\""
   ]
  },
  {
   "cell_type": "markdown",
   "metadata": {},
   "source": [
    "Code affichage"
   ]
  },
  {
   "cell_type": "raw",
   "metadata": {},
   "source": [
    "\"\"\"\n",
    "fig, ax = plt.subplots(figsize=(20,10))\n",
    "plt.plot(data, '-', lw=1, label=\"data\")\n",
    "plt.plot(means_, '-', lw=1, label=\"mean {}\".format(window))\n",
    "plt.legend(fontsize=15);\n",
    "\"\"\""
   ]
  },
  {
   "cell_type": "code",
   "execution_count": 2,
   "metadata": {},
   "outputs": [],
   "source": [
    "class RollingMean():\n",
    "    \"\"\"Calcul la moyenne glissante d'une série de données\n",
    "    \n",
    "    à compléter\n",
    "    \"\"\"\n",
    "    \n",
    "    def __init__():\n",
    "        pass\n",
    "        \n",
    "    def plot():\n",
    "        \"\"\"\n",
    "        ...\n",
    "        \"\"\"\n",
    "        pass\n",
    "    \n",
    "    def run():\n",
    "        \"\"\"        \n",
    "        ...\n",
    "        \"\"\"\n",
    "        pass"
   ]
  },
  {
   "cell_type": "code",
   "execution_count": null,
   "metadata": {},
   "outputs": [],
   "source": []
  },
  {
   "cell_type": "code",
   "execution_count": null,
   "metadata": {},
   "outputs": [],
   "source": []
  },
  {
   "cell_type": "code",
   "execution_count": null,
   "metadata": {},
   "outputs": [],
   "source": []
  }
 ],
 "metadata": {
  "kernelspec": {
   "display_name": "Python 3",
   "language": "python",
   "name": "python3"
  },
  "language_info": {
   "codemirror_mode": {
    "name": "ipython",
    "version": 3
   },
   "file_extension": ".py",
   "mimetype": "text/x-python",
   "name": "python",
   "nbconvert_exporter": "python",
   "pygments_lexer": "ipython3",
   "version": "3.7.3"
  }
 },
 "nbformat": 4,
 "nbformat_minor": 2
}
