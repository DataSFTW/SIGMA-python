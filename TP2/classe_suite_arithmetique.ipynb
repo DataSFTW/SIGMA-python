{
 "cells": [
  {
   "cell_type": "markdown",
   "metadata": {},
   "source": [
    "## La suite arithmétique\n",
    "Une suite arithmétique est définie comme suit : \n",
    "\n",
    "pour tout entier naturel $n$, $u_{n+1} = u_{n} + r$.\n",
    "\n",
    "L'objectif est de créer une classe qui construit tous les éléments de cette suite arithmétique, pour un $n$ donné. Les paramètres de cette suite sont : l'état initial $u_0$, la raison $r$ et le nombre d'éléments à calculer $n$. Créer la classe avec les éléments suivants :\n",
    "\n",
    "- une fonction `__init__` qui prend comme argument la raison : ce sera un attribut de la classe.\n",
    "- une méthode `build` qui construit la suite et qui prend comme argument l'état initial $u_0$ et le nombre $n$ d'éléments à construire. Cette méthode doit stocker les éléments dans une liste qui sera un attribut de la classe.\n",
    "- une méthode `get_values` qui est un accesseur à la liste créée avec la méthode `build`. **Attention à la gestion de l'attribut de résultat !**"
   ]
  },
  {
   "cell_type": "code",
   "execution_count": 3,
   "metadata": {},
   "outputs": [],
   "source": [
    "class SuiteArithmetique():\n",
    "    \n",
    "    \"\"\"\n",
    "    Fonction qui calcule les éléments d'une suite arithmétique\n",
    "    \n",
    "    Parameters\n",
    "    ----------\n",
    "    raison : float\n",
    "        La raison de la suite arithmétique.\n",
    "    \"\"\"\n",
    "    def __init__(self, raison):\n",
    "        self.raison = raison\n",
    "        self.list_element = None\n",
    "        \n",
    "    def build(self, u_initial, nb_element):\n",
    "        \"\"\"\n",
    "        Construit les éléments de la suite\n",
    "        \n",
    "        Parameters\n",
    "        ----------\n",
    "        u_initial : float\n",
    "            La raison de la suite arithmétique.\n",
    "        nb_element : int\n",
    "            Le nombre d'éléments à construire dans la suite\n",
    "        \"\"\"\n",
    "        \n",
    "        self.list_element = [object] * (nb_element + 1)\n",
    "        self.list_element[0] = u_initial\n",
    "        for i in range(nb_element):\n",
    "            self.list_element[i + 1] = self.list_element[i] + self.raison\n",
    "            \n",
    "    def get_values(self):\n",
    "        \"\"\"\n",
    "        Retourne les éléments de suite construite\n",
    "        \"\"\"\n",
    "        if self.list_element is None:\n",
    "            raise Exception('The build method must be executed first.')\n",
    "        else:\n",
    "            return self.list_element"
   ]
  },
  {
   "cell_type": "code",
   "execution_count": 4,
   "metadata": {},
   "outputs": [
    {
     "ename": "Exception",
     "evalue": "The build method must be executed first.",
     "output_type": "error",
     "traceback": [
      "\u001b[0;31m---------------------------------------------------------------------------\u001b[0m",
      "\u001b[0;31mException\u001b[0m                                 Traceback (most recent call last)",
      "\u001b[0;32m<ipython-input-4-f336eb05ef19>\u001b[0m in \u001b[0;36m<module>\u001b[0;34m\u001b[0m\n\u001b[1;32m      1\u001b[0m \u001b[0;31m# Test avec un print des résultats sans avoir construit la suite : affichage de l'erreur gérée\u001b[0m\u001b[0;34m\u001b[0m\u001b[0;34m\u001b[0m\u001b[0;34m\u001b[0m\u001b[0m\n\u001b[1;32m      2\u001b[0m \u001b[0msuite\u001b[0m \u001b[0;34m=\u001b[0m \u001b[0mSuiteArithmetique\u001b[0m\u001b[0;34m(\u001b[0m\u001b[0;36m5\u001b[0m\u001b[0;34m)\u001b[0m\u001b[0;34m\u001b[0m\u001b[0;34m\u001b[0m\u001b[0m\n\u001b[0;32m----> 3\u001b[0;31m \u001b[0mprint\u001b[0m\u001b[0;34m(\u001b[0m\u001b[0msuite\u001b[0m\u001b[0;34m.\u001b[0m\u001b[0mget_values\u001b[0m\u001b[0;34m(\u001b[0m\u001b[0;34m)\u001b[0m\u001b[0;34m)\u001b[0m\u001b[0;34m\u001b[0m\u001b[0;34m\u001b[0m\u001b[0m\n\u001b[0m",
      "\u001b[0;32m<ipython-input-3-b50ec636d476>\u001b[0m in \u001b[0;36mget_values\u001b[0;34m(self)\u001b[0m\n\u001b[1;32m     35\u001b[0m         \"\"\"\n\u001b[1;32m     36\u001b[0m         \u001b[0;32mif\u001b[0m \u001b[0mself\u001b[0m\u001b[0;34m.\u001b[0m\u001b[0mlist_element\u001b[0m \u001b[0;32mis\u001b[0m \u001b[0;32mNone\u001b[0m\u001b[0;34m:\u001b[0m\u001b[0;34m\u001b[0m\u001b[0;34m\u001b[0m\u001b[0m\n\u001b[0;32m---> 37\u001b[0;31m             \u001b[0;32mraise\u001b[0m \u001b[0mException\u001b[0m\u001b[0;34m(\u001b[0m\u001b[0;34m'The build method must be executed first.'\u001b[0m\u001b[0;34m)\u001b[0m\u001b[0;34m\u001b[0m\u001b[0;34m\u001b[0m\u001b[0m\n\u001b[0m\u001b[1;32m     38\u001b[0m         \u001b[0;32melse\u001b[0m\u001b[0;34m:\u001b[0m\u001b[0;34m\u001b[0m\u001b[0;34m\u001b[0m\u001b[0m\n\u001b[1;32m     39\u001b[0m             \u001b[0;32mreturn\u001b[0m \u001b[0mself\u001b[0m\u001b[0;34m.\u001b[0m\u001b[0mlist_element\u001b[0m\u001b[0;34m\u001b[0m\u001b[0;34m\u001b[0m\u001b[0m\n",
      "\u001b[0;31mException\u001b[0m: The build method must be executed first."
     ]
    }
   ],
   "source": [
    "# Test avec un print des résultats sans avoir construit la suite : affichage de l'erreur gérée\n",
    "suite = SuiteArithmetique(5)\n",
    "print(suite.get_values())"
   ]
  },
  {
   "cell_type": "code",
   "execution_count": 7,
   "metadata": {},
   "outputs": [
    {
     "name": "stdout",
     "output_type": "stream",
     "text": [
      "[2, 7, 12, 17, 22, 27, 32, 37, 42, 47]\n"
     ]
    }
   ],
   "source": [
    "# Construction de la suite et affichage\n",
    "suite.build(2, 9)\n",
    "print(suite.get_values())"
   ]
  },
  {
   "cell_type": "code",
   "execution_count": null,
   "metadata": {},
   "outputs": [],
   "source": []
  }
 ],
 "metadata": {
  "kernelspec": {
   "display_name": "Python 3",
   "language": "python",
   "name": "python3"
  },
  "language_info": {
   "codemirror_mode": {
    "name": "ipython",
    "version": 3
   },
   "file_extension": ".py",
   "mimetype": "text/x-python",
   "name": "python",
   "nbconvert_exporter": "python",
   "pygments_lexer": "ipython3",
   "version": "3.7.3"
  }
 },
 "nbformat": 4,
 "nbformat_minor": 2
}
