{
 "cells": [
  {
   "cell_type": "markdown",
   "metadata": {},
   "source": [
    "# Algotithmique et python pour l'analyse de données - controle 1"
   ]
  },
  {
   "cell_type": "markdown",
   "metadata": {},
   "source": [
    "# Controle 1\n",
    "\n",
    "## A réaliser sans l'aide de numpy ou autres modules !!"
   ]
  },
  {
   "cell_type": "markdown",
   "metadata": {},
   "source": [
    "##### Définition d'une liste pour tester vos fonctions"
   ]
  },
  {
   "cell_type": "code",
   "execution_count": null,
   "metadata": {},
   "outputs": [],
   "source": [
    "liste_de_test = [4, 6, 8, 7, 0, 6, 4, 8, 9, 2, 4]"
   ]
  },
  {
   "cell_type": "markdown",
   "metadata": {},
   "source": [
    "### Question 1 (4 pts) : Créez une fonction qui prend une liste en entrée et retourne la liste des carrés des termes de la liste (exemple : [1, 2, 3, 4, 5] devient [1, 4, 9, 16, 25]). Testez votre fonction sur la liste de test définie ci-dessus."
   ]
  },
  {
   "cell_type": "code",
   "execution_count": null,
   "metadata": {},
   "outputs": [],
   "source": [
    "def mise_au_carre(liste):\n",
    "    \n",
    "    \n",
    "    "
   ]
  },
  {
   "cell_type": "markdown",
   "metadata": {},
   "source": [
    "##### Evaluation de votre fonction sur la liste de test"
   ]
  },
  {
   "cell_type": "code",
   "execution_count": null,
   "metadata": {},
   "outputs": [],
   "source": [
    "mise_au_carre(liste_de_test)"
   ]
  },
  {
   "cell_type": "markdown",
   "metadata": {},
   "source": [
    "### Question 2 (4 pts) : Créez une fonction qui prend une liste en entrée et retourne la liste des différences entre les termes successifs de la liste (exemple : [1, 3, 2, 5, 4] devient [2, -1, 3, -1]). Testez votre fonction sur la liste de test définie plus haut."
   ]
  },
  {
   "cell_type": "code",
   "execution_count": null,
   "metadata": {},
   "outputs": [],
   "source": [
    "def difference(liste):\n",
    "    \n",
    "    \n",
    "    "
   ]
  },
  {
   "cell_type": "markdown",
   "metadata": {},
   "source": [
    "##### Evaluation de votre fonction sur la liste de test"
   ]
  },
  {
   "cell_type": "code",
   "execution_count": null,
   "metadata": {},
   "outputs": [],
   "source": [
    "difference(liste_de_test)"
   ]
  },
  {
   "cell_type": "markdown",
   "metadata": {},
   "source": [
    "### Question 3 (4 pts) : Créez une fonction qui prend une liste en entrée et retourne la liste des pourcentages de variation entre les termes successifs de la liste (exemple : [1, 2, 3, 1.5, 3] devient [100, 50, -50, 100]). Testez votre fonction sur la liste de test définie plus haut.\n",
    "\n",
    "Indice pour définir l'infinie : float('inf')"
   ]
  },
  {
   "cell_type": "code",
   "execution_count": null,
   "metadata": {},
   "outputs": [],
   "source": [
    "def pourcentage(liste):\n",
    "    \n",
    "    \n",
    "    "
   ]
  },
  {
   "cell_type": "markdown",
   "metadata": {},
   "source": [
    "##### Evaluation de votre fonction sur la liste de test"
   ]
  },
  {
   "cell_type": "code",
   "execution_count": null,
   "metadata": {},
   "outputs": [],
   "source": [
    "pourcentage(liste_de_test)"
   ]
  },
  {
   "cell_type": "markdown",
   "metadata": {},
   "source": [
    "### Question 4 (4 pts) : Créez une fonction qui prend une liste en entrée et retourne cette même liste triée de façon décroissante en appliquant la méthode du tri à bulle (exemple : [4, 5, 1, 7, 3, 6, 7] devient [7, 7, 6, 5, 4, 3, 1]). Testez votre fonction sur la liste de test définie plus haut."
   ]
  },
  {
   "cell_type": "markdown",
   "metadata": {},
   "source": [
    "### Pseudo-code du tri à bulle :\n",
    "\n",
    "- PROCEDURE tri_bulle ( TABLEAU a[1:n])\n",
    "- passage ← 0\n",
    "- REPETER\n",
    "    - permut ← FAUX\n",
    "    - POUR i VARIANT DE 1 A n - 1 - passage FAIRE\n",
    "         * SI a[i] > a[i+1] ALORS\n",
    "            * echanger a[i] ET a[i+1]\n",
    "            * permut ← VRAI\n",
    "         * FIN SI\n",
    "    - FIN POUR\n",
    "    - passage ← passage + 1\n",
    "- TANT QUE permut = VRAI\n"
   ]
  },
  {
   "cell_type": "code",
   "execution_count": null,
   "metadata": {},
   "outputs": [],
   "source": [
    "def tri_a_bulle(liste):\n",
    "    \n",
    "    \n",
    "    "
   ]
  },
  {
   "cell_type": "markdown",
   "metadata": {},
   "source": [
    "##### Evaluation de votre fonction sur la liste de test"
   ]
  },
  {
   "cell_type": "code",
   "execution_count": null,
   "metadata": {},
   "outputs": [],
   "source": [
    "tri_a_bulle(liste_de_test)"
   ]
  },
  {
   "cell_type": "markdown",
   "metadata": {},
   "source": [
    "### Question 5 (4 pts) : Créez une classe de mise à la puissance des termes d'une liste. L'exposant voulu sera un attribut de la classe, tandis que la liste sera passée comme argument de la méthode. Testez votre fonction sur la liste de test définie plus haut."
   ]
  },
  {
   "cell_type": "code",
   "execution_count": null,
   "metadata": {},
   "outputs": [],
   "source": [
    "class exam():\n",
    "    \n",
    "    \n",
    "    "
   ]
  },
  {
   "cell_type": "markdown",
   "metadata": {},
   "source": [
    "##### Evaluation de votre classe sur la liste de test"
   ]
  },
  {
   "cell_type": "code",
   "execution_count": null,
   "metadata": {},
   "outputs": [],
   "source": [
    "power = exam(expo=3)"
   ]
  },
  {
   "cell_type": "code",
   "execution_count": null,
   "metadata": {},
   "outputs": [],
   "source": [
    "power.mise_puissance(liste_de_test)"
   ]
  }
 ],
 "metadata": {
  "kernelspec": {
   "display_name": "Python 3",
   "language": "python",
   "name": "python3"
  },
  "language_info": {
   "codemirror_mode": {
    "name": "ipython",
    "version": 3
   },
   "file_extension": ".py",
   "mimetype": "text/x-python",
   "name": "python",
   "nbconvert_exporter": "python",
   "pygments_lexer": "ipython3",
   "version": "3.7.3"
  }
 },
 "nbformat": 4,
 "nbformat_minor": 2
}
