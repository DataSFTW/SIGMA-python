{
 "cells": [
  {
   "cell_type": "markdown",
   "metadata": {},
   "source": [
    "# Python: Fonctions standards"
   ]
  },
  {
   "cell_type": "code",
   "execution_count": null,
   "metadata": {},
   "outputs": [],
   "source": [
    "# Listes\n",
    "# 1) Créer une liste d'entiers d'au moins 10 éléments et afficher la taille de la liste\n",
    "l = \n",
    "print()\n",
    "\n",
    "# 2) Afficher du 3eme au 5eme élément de la liste (en une ligne de code)\n",
    "\n",
    "# 3) Ajouter un nombre réel à cette liste et afficher la liste\n",
    "\n",
    "# 4) Afficher la plus faible valeur de la liste (Sans modifier la liste)\n"
   ]
  },
  {
   "cell_type": "code",
   "execution_count": null,
   "metadata": {},
   "outputs": [],
   "source": [
    "# String\n",
    "s = \"This is a totaly random sentence.\"\n",
    "print(s)\n",
    "\n",
    "# 1) Retirer le mot 'totaly' de la phrase et afficher la nouvelle phrase\n",
    "\n",
    "# 2) Créer une liste contenant tout les mots de la phrase (sans la ponctuation) et l'afficher\n"
   ]
  },
  {
   "cell_type": "code",
   "execution_count": null,
   "metadata": {},
   "outputs": [],
   "source": [
    "# Dictionnaries and Loop\n",
    "d = {'a': 5, 'g':8.89, 9: ['a', 2, 3], 7: \"hello\"}\n",
    "\n",
    "# 1) afficher la liste des clés\n",
    "\n",
    "# 2) Utiliser une boucle pour afficher une phrase contenant la clé \n",
    "#    et la valeur correspondantes pour tous les éléments du dictionnaire\n",
    "    \n",
    "# 3) Dans la boucle précédante, ajouter une phrase spécifique lorsque la valeur 5 est trouvée\n"
   ]
  },
  {
   "cell_type": "code",
   "execution_count": null,
   "metadata": {},
   "outputs": [],
   "source": [
    "# Loop\n",
    "\n",
    "# 1) Utiliser une boucle pour calculer et afficher les carrés de nombres compris entre 1 et 10\n",
    "    \n",
    "# 2) Utiliser une boucle pour calculer et afficher l'inverse des nombres pairs entre -10 et 10 (attention à 0)\n",
    "print()\n",
    "        \n",
    "# 3) Use a while loop to find the position of the word 'random' in the sentence s\n",
    "print()\n"
   ]
  },
  {
   "cell_type": "markdown",
   "metadata": {},
   "source": [
    "### PGCD: Algorithme d'Euclide"
   ]
  },
  {
   "cell_type": "code",
   "execution_count": null,
   "metadata": {},
   "outputs": [],
   "source": [
    "# Calcul du pgcd de deux entiers a et b: \n",
    "#    - on calcule r le reste de la division euclidienne de a par b\n",
    "#    - on remplace a par b et b par r\n",
    "#    - on recommence tant que r != 0\n",
    "#    - le pgcd de a et b et le dernier r non nul\n",
    "\n",
    "# Entiers dont on calcule le PGCD (positifs!!)\n",
    "a = 669\n",
    "b = 54\n",
    "\n",
    "# On teste que a et b soient positifs, si ce n'est pas le cas on affiche un message \n",
    "#     et on ne fait pas la suite de l'algorithme\n",
    "if :\n",
    "else:\n",
    "    # On teste que a est supérieur à b (on les intervertis dans le cas inverse)\n",
    "\n",
    "    # On garde une copie des valeurs initiales\n",
    "\n",
    "    # On boucle jusqu'à ce que le reste soit nul\n",
    "\n",
    "        # On remplace a par b et b par le reste de la division euclidienne\n",
    "        # de a par b\n",
    "        \n",
    "\n",
    "    # On affiche le résultat\n",
    "\n",
    "    # Vérifications\n",
    "    print(a0 // a, '×', a, '=', (a0 // a * a))\n",
    "    print(b0 // a, '×', a, '=', (b0 // a * a))"
   ]
  },
  {
   "cell_type": "code",
   "execution_count": null,
   "metadata": {},
   "outputs": [],
   "source": [
    "# Fonctions: Créer une fonction PGCD qui prends en arguments deux entiers,\n",
    "#           effectue les tests sur les valeurs en entrée et retourne le PGCD de ces deux entiers\n",
    "\n",
    "# On teste la fonction\n",
    "print(PGCD(666, 54))\n",
    "print()\n",
    "print(PGCD(5, 75))\n",
    "print()\n",
    "print(PGCD(0, 0))"
   ]
  },
  {
   "cell_type": "code",
   "execution_count": null,
   "metadata": {},
   "outputs": [],
   "source": []
  }
 ],
 "metadata": {
  "kernelspec": {
   "display_name": "Python 3",
   "language": "python",
   "name": "python3"
  },
  "language_info": {
   "codemirror_mode": {
    "name": "ipython",
    "version": 3
   },
   "file_extension": ".py",
   "mimetype": "text/x-python",
   "name": "python",
   "nbconvert_exporter": "python",
   "pygments_lexer": "ipython3",
   "version": "3.5.2"
  }
 },
 "nbformat": 4,
 "nbformat_minor": 2
}
