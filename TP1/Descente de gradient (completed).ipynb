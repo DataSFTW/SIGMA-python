{
 "cells": [
  {
   "cell_type": "code",
   "execution_count": 1,
   "metadata": {},
   "outputs": [
    {
     "data": {
      "text/html": [
       "<style>.container { width:100% !important; }</style>"
      ],
      "text/plain": [
       "<IPython.core.display.HTML object>"
      ]
     },
     "metadata": {},
     "output_type": "display_data"
    }
   ],
   "source": [
    "#import used packages\n",
    "import numpy as np\n",
    "import pickle # save and load binary files (data, model)\n",
    "\n",
    "# Set jupyter display in full screen\n",
    "from IPython.core.display import display, HTML\n",
    "display(HTML(\"<style>.container { width:100% !important; }</style>\"))"
   ]
  },
  {
   "cell_type": "code",
   "execution_count": 2,
   "metadata": {},
   "outputs": [],
   "source": [
    "# function to import and export data from cPickle format\n",
    "def unpickle(file):\n",
    "    with open(file, 'rb') as fo:\n",
    "        dict = pickle.load(fo, encoding='bytes')\n",
    "    return dict\n",
    "\n",
    "def save_obj(obj, name):\n",
    "    with open('export/' + name + '.pkl', 'wb') as f:\n",
    "        pickle.dump(obj, f, pickle.HIGHEST_PROTOCOL)"
   ]
  },
  {
   "cell_type": "code",
   "execution_count": 3,
   "metadata": {},
   "outputs": [
    {
     "name": "stdout",
     "output_type": "stream",
     "text": [
      "238\n"
     ]
    }
   ],
   "source": [
    "#import data\n",
    "features = unpickle('data/Sigma_features.pkl')\n",
    "label = unpickle('data/Sigma_labels.pkl')\n",
    "m = label.shape[0]\n",
    "print(m)\n",
    "label = label.reshape(-1,1)"
   ]
  },
  {
   "cell_type": "code",
   "execution_count": 4,
   "metadata": {},
   "outputs": [
    {
     "data": {
      "text/plain": [
       "(238, 64)"
      ]
     },
     "execution_count": 4,
     "metadata": {},
     "output_type": "execute_result"
    }
   ],
   "source": [
    "# Add bias column (1 vector)\n",
    "bias = np.ones(features.shape)\n",
    "features = np.column_stack([features, bias])\n",
    "features.shape"
   ]
  },
  {
   "cell_type": "code",
   "execution_count": 5,
   "metadata": {},
   "outputs": [
    {
     "name": "stdout",
     "output_type": "stream",
     "text": [
      "Number of features (eg number of parameters): 64\n"
     ]
    },
    {
     "data": {
      "text/plain": [
       "(64, 1)"
      ]
     },
     "execution_count": 5,
     "metadata": {},
     "output_type": "execute_result"
    }
   ],
   "source": [
    "# Create parameter vector\n",
    "n = features.shape[1]\n",
    "print(\"Number of features (eg number of parameters): {}\".format(n))\n",
    "\n",
    "parameters = np.random.rand(n,1)\n",
    "parameters.shape"
   ]
  },
  {
   "cell_type": "code",
   "execution_count": 6,
   "metadata": {},
   "outputs": [
    {
     "data": {
      "text/plain": [
       "(238, 1)"
      ]
     },
     "execution_count": 6,
     "metadata": {},
     "output_type": "execute_result"
    }
   ],
   "source": [
    "# Compute our hypothesis model (linear regression), use a fonction:\n",
    "\n",
    "def hypothesis(x, theta):\n",
    "    return np.dot(x, theta)\n",
    "\n",
    "predictions = hypothesis(features, parameters)\n",
    "predictions.shape"
   ]
  },
  {
   "cell_type": "code",
   "execution_count": 7,
   "metadata": {},
   "outputs": [
    {
     "data": {
      "text/plain": [
       "1410018.5401266727"
      ]
     },
     "execution_count": 7,
     "metadata": {},
     "output_type": "execute_result"
    }
   ],
   "source": [
    "# Fonction de coût\n",
    "def costFunction(yhat, y):\n",
    "    return np.square(yhat - y).sum() / (2*y.shape[0])\n",
    "\n",
    "costFct = costFunction(predictions, label)\n",
    "costFct"
   ]
  },
  {
   "cell_type": "code",
   "execution_count": 8,
   "metadata": {},
   "outputs": [
    {
     "data": {
      "text/plain": [
       "(64, 1)"
      ]
     },
     "execution_count": 8,
     "metadata": {},
     "output_type": "execute_result"
    }
   ],
   "source": [
    "# Dérivée de la fonction de coût == gradients\n",
    "def gradients(yhat, y, x):\n",
    "    return (((yhat - y) * x).sum(axis=0) / x.shape[0]).reshape(x.shape[1],1)\n",
    "\n",
    "grads = gradients(predictions, label, features)\n",
    "grads.shape"
   ]
  },
  {
   "cell_type": "code",
   "execution_count": 9,
   "metadata": {},
   "outputs": [
    {
     "data": {
      "text/plain": [
       "(64, 1)"
      ]
     },
     "execution_count": 9,
     "metadata": {},
     "output_type": "execute_result"
    }
   ],
   "source": [
    "# gradient descent: mise à jour des paramètres\n",
    "alpha = 0.003\n",
    "def updateParameters(parameters, grads, alpha):\n",
    "    return parameters - alpha * grads\n",
    "\n",
    "parameters = updateParameters(parameters, grads, alpha)\n",
    "parameters.shape"
   ]
  },
  {
   "cell_type": "code",
   "execution_count": 10,
   "metadata": {},
   "outputs": [
    {
     "data": {
      "text/plain": [
       "True"
      ]
     },
     "execution_count": 10,
     "metadata": {},
     "output_type": "execute_result"
    }
   ],
   "source": [
    "# fonction pour tester l'évolution de la fonction de coût: vrai = continuer la descente de gradient\n",
    "predictions = hypothesis(features, parameters)\n",
    "def testCostFct(yhat, y, prevCostFct, epsilon):\n",
    "        return np.abs(costFunction(yhat, y) - prevCostFct) >= epsilon*prevCostFct\n",
    "    \n",
    "testCostFct(predictions, label, costFct, 1e-5)"
   ]
  },
  {
   "cell_type": "markdown",
   "metadata": {},
   "source": [
    "# On combine le tout dans une boucle"
   ]
  },
  {
   "cell_type": "code",
   "execution_count": 11,
   "metadata": {},
   "outputs": [],
   "source": [
    "# Initialisation\n",
    "def initGradDescent(x):\n",
    "    n = x.shape[1]\n",
    "    theta = np.random.rand(n,1)\n",
    "    yhat = hypothesis(x, theta)\n",
    "    costFct = 0\n",
    "    epsilon = 1e-5\n",
    "    alpha = 0.000000003\n",
    "    count = 0\n",
    "    return theta, yhat, costFct, epsilon, alpha, count"
   ]
  },
  {
   "cell_type": "code",
   "execution_count": 12,
   "metadata": {
    "scrolled": true
   },
   "outputs": [
    {
     "name": "stdout",
     "output_type": "stream",
     "text": [
      "1000 : cost function = 14525.198670120133\n",
      "2000 : cost function = 9139.112762526818\n",
      "3000 : cost function = 7002.54633112417\n",
      "4000 : cost function = 5672.410883157096\n",
      "5000 : cost function = 4743.4607661747195\n",
      "6000 : cost function = 4081.0207051879183\n",
      "7000 : cost function = 3606.891236858581\n",
      "8000 : cost function = 3267.239790433034\n",
      "9000 : cost function = 3023.7929135153363\n",
      "10000 : cost function = 2849.191411253369\n",
      "11000 : cost function = 2723.86051906347\n",
      "12000 : cost function = 2633.792928959592\n",
      "13000 : cost function = 2568.9650021677185\n",
      "14000 : cost function = 2522.203738072406\n",
      "15000 : cost function = 2488.3760252436555\n",
      "\n",
      "Finish: 15461 steps, cost function = 2476.0793967342156\n"
     ]
    }
   ],
   "source": [
    "# On utilise une boucle while\n",
    "\n",
    "parameters, predictions, costFct, epsilon, alpha, count = initGradDescent(features)\n",
    "costFctEvol = []\n",
    "while testCostFct(predictions, label, costFct, epsilon):\n",
    "    count += 1\n",
    "    costFct = costFunction(predictions, label)\n",
    "    grads = gradients(predictions, label, features)\n",
    "    parameters = updateParameters(parameters, grads, alpha)\n",
    "    predictions = hypothesis(features, parameters)\n",
    "    if count % 1000 == 0:\n",
    "        print('%3i : cost function = {}'.format(costFct) % count)\n",
    "    costFctEvol.append(costFct)\n",
    "print(\"\\nFinish: {} steps, cost function = {}\".format(count, costFct))"
   ]
  },
  {
   "cell_type": "markdown",
   "metadata": {},
   "source": [
    "# Regularization"
   ]
  },
  {
   "cell_type": "code",
   "execution_count": 13,
   "metadata": {},
   "outputs": [
    {
     "name": "stdout",
     "output_type": "stream",
     "text": [
      "fonction de coût       = 2476.054636529362\n",
      "fonction de coût (reg) = 2493185645.0494237\n"
     ]
    }
   ],
   "source": [
    "# Fonction de coût régularisée\n",
    "def regCostFunction(yhat, y, lmb, theta):\n",
    "    return costFunction(yhat, y) + lmb/(2*y.shape[0]) * np.square(theta).sum()\n",
    "\n",
    "\n",
    "lmb = (m * 0.9)/alpha\n",
    "\n",
    "costFct = costFunction(predictions, label)\n",
    "print(\"fonction de coût       = {}\".format(costFct))\n",
    "regCostFct = regCostFunction(predictions, label, lmb, parameters)\n",
    "print(\"fonction de coût (reg) = {}\".format(regCostFct))"
   ]
  },
  {
   "cell_type": "code",
   "execution_count": 14,
   "metadata": {},
   "outputs": [
    {
     "data": {
      "text/plain": [
       "(64, 1)"
      ]
     },
     "execution_count": 14,
     "metadata": {},
     "output_type": "execute_result"
    }
   ],
   "source": [
    "# Dérivée de la fonction de coût regularisée\n",
    "def regGradients(yhat, y, x, lmb, theta):\n",
    "    return (((yhat - y) * x).sum(axis=0) / x.shape[0]).reshape(x.shape[1],1) + lmb/x.shape[0]*theta\n",
    "\n",
    "regGrads = regGradients(predictions, label, features, lmb, parameters)\n",
    "regGrads.shape"
   ]
  },
  {
   "cell_type": "code",
   "execution_count": 15,
   "metadata": {},
   "outputs": [
    {
     "data": {
      "text/plain": [
       "(64, 1)"
      ]
     },
     "execution_count": 15,
     "metadata": {},
     "output_type": "execute_result"
    }
   ],
   "source": [
    "# gradient descent: mise à jour des paramètres (on utilise la même fonction)\n",
    "alpha = 0.003\n",
    "\n",
    "parameters = updateParameters(parameters, regGrads, alpha)\n",
    "parameters.shape"
   ]
  },
  {
   "cell_type": "code",
   "execution_count": 16,
   "metadata": {},
   "outputs": [
    {
     "data": {
      "text/plain": [
       "True"
      ]
     },
     "execution_count": 16,
     "metadata": {},
     "output_type": "execute_result"
    }
   ],
   "source": [
    "# fonction pour tester l'évolution de la fonction de coût: vrai = continuer la descente de gradient\n",
    "predictions = hypothesis(features, parameters)\n",
    "def testRegCostFct(yhat, y, lmb, theta, prevCostFct, epsilon):\n",
    "        return np.abs(regCostFunction(yhat, y, lmb, theta) - prevCostFct) >= epsilon*prevCostFct\n",
    "    \n",
    "testRegCostFct(predictions, label, lmb, parameters, regCostFct, 1e-5)"
   ]
  },
  {
   "cell_type": "code",
   "execution_count": 17,
   "metadata": {},
   "outputs": [],
   "source": [
    "# Initialisation\n",
    "def initRegGradDescent(x):\n",
    "    m = x.shape[0]\n",
    "    n = x.shape[1]\n",
    "    theta = np.random.rand(n,1)\n",
    "    yhat = hypothesis(x, theta)\n",
    "    costFct = 0\n",
    "    epsilon = 1e-10\n",
    "    alpha = 0.000000003\n",
    "    lmb = (m * 0.2)/alpha\n",
    "    count = 0\n",
    "    return theta, yhat, costFct, epsilon, alpha, lmb, count"
   ]
  },
  {
   "cell_type": "code",
   "execution_count": 18,
   "metadata": {
    "scrolled": true
   },
   "outputs": [
    {
     "name": "stdout",
     "output_type": "stream",
     "text": [
      " 10 : cost function = 9657232.053140178\n",
      " 20 : cost function = 214355.06871368922\n",
      " 30 : cost function = 106629.09509980243\n",
      " 40 : cost function = 105390.24645342011\n",
      " 50 : cost function = 105375.98541221587\n",
      " 60 : cost function = 105375.82120552202\n",
      " 70 : cost function = 105375.81931450553\n",
      "\n",
      "Finish: 70 steps, cost function = 105375.81931450553\n"
     ]
    }
   ],
   "source": [
    "# On utilise une boucle while\n",
    "\n",
    "parameters, predictions, costFct, epsilon, alpha, lmb, count = initRegGradDescent(features)\n",
    "costFctEvol = []\n",
    "while testRegCostFct(predictions, label, lmb, parameters, costFct, epsilon):\n",
    "    count += 1\n",
    "    costFct = regCostFunction(predictions, label, lmb, parameters)\n",
    "    grads = regGradients(predictions, label, features, lmb, parameters)\n",
    "    parameters = updateParameters(parameters, grads, alpha)\n",
    "    predictions = hypothesis(features, parameters)\n",
    "    if count % 10 == 0:\n",
    "        print('%3i : cost function = {}'.format(costFct) % count)\n",
    "    costFctEvol.append(costFct)\n",
    "print(\"\\nFinish: {} steps, cost function = {}\".format(count, costFct))"
   ]
  },
  {
   "cell_type": "code",
   "execution_count": null,
   "metadata": {},
   "outputs": [],
   "source": []
  }
 ],
 "metadata": {
  "kernelspec": {
   "display_name": "Python 3",
   "language": "python",
   "name": "python3"
  },
  "language_info": {
   "codemirror_mode": {
    "name": "ipython",
    "version": 3
   },
   "file_extension": ".py",
   "mimetype": "text/x-python",
   "name": "python",
   "nbconvert_exporter": "python",
   "pygments_lexer": "ipython3",
   "version": "3.5.2"
  }
 },
 "nbformat": 4,
 "nbformat_minor": 2
}
