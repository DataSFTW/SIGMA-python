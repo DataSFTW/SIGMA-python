{
 "cells": [
  {
   "cell_type": "markdown",
   "metadata": {},
   "source": [
    "# Python: Fonctions standards"
   ]
  },
  {
   "cell_type": "code",
   "execution_count": 1,
   "metadata": {},
   "outputs": [
    {
     "name": "stdout",
     "output_type": "stream",
     "text": [
      "12\n",
      "[9, 5, 4]\n",
      "[5, 8, 9, 5, 4, 9, 3, 9, 3, 0, 5, 3, 236.6]\n",
      "0\n"
     ]
    }
   ],
   "source": [
    "# Listes\n",
    "# 1) Créer une liste d'entiers d'au moins 10 éléments et afficher la taille de la liste\n",
    "l = [5,8,9,5,4,9,3,9,3,0,5,3]\n",
    "print(len(l))\n",
    "\n",
    "# 2) Afficher du 3eme au 5eme élément de la liste (en une ligne de code)\n",
    "print(l[2:5])\n",
    "\n",
    "# 3) Ajouter un nombre réel à cette liste et afficher la liste\n",
    "l.append(236.6)\n",
    "print(l)\n",
    "\n",
    "# 4) Afficher la plus faible valeur de la liste (Sans modifier la liste)\n",
    "print(sorted(l)[0])"
   ]
  },
  {
   "cell_type": "code",
   "execution_count": 2,
   "metadata": {},
   "outputs": [
    {
     "name": "stdout",
     "output_type": "stream",
     "text": [
      "This is a totaly random sentence.\n",
      "This is a random sentence.\n",
      "['This', 'is', 'a', 'random', 'sentence']\n"
     ]
    }
   ],
   "source": [
    "# String\n",
    "s = \"This is a totaly random sentence.\"\n",
    "print(s)\n",
    "\n",
    "# 1) Retirer le mot 'totaly' de la phrase et afficher la nouvelle phrase\n",
    "s = s.replace('totaly ', '')\n",
    "print(s)\n",
    "\n",
    "# 2) Créer une liste contenant tout les mots de la phrase (sans la ponctuation) et l'afficher\n",
    "l = s[:-1].split(' ')\n",
    "print(l)"
   ]
  },
  {
   "cell_type": "code",
   "execution_count": 3,
   "metadata": {},
   "outputs": [
    {
     "name": "stdout",
     "output_type": "stream",
     "text": [
      "dict_keys([9, 'a', 'g', 7])\n",
      "La clé 9 contient la valeur ['a', 2, 3]\n",
      "La clé a contient la valeur 5\n",
      "La clé g contient la valeur 8.89\n",
      "La clé 7 contient la valeur hello\n",
      "La clé 9 contient la valeur ['a', 2, 3]\n",
      "C'est la valeur 5 pour la clé a!\n",
      "La clé g contient la valeur 8.89\n",
      "La clé 7 contient la valeur hello\n"
     ]
    }
   ],
   "source": [
    "# Dictionnaries and Loop\n",
    "d = {'a': 5, 'g':8.89, 9: ['a', 2, 3], 7: \"hello\"}\n",
    "\n",
    "# 1) afficher la liste des clés\n",
    "print(d.keys())\n",
    "\n",
    "# 2) Utiliser une boucle pour afficher une phrase contenant la clé \n",
    "#    et la valeur correspondantes pour tous les éléments du dictionnaire\n",
    "for k, v in d.items():\n",
    "    print(\"La clé {} contient la valeur {}\".format(k, v))\n",
    "    \n",
    "# 3) Dans la boucle précédante, ajouter une phrase spécifique lorsque la valeur 5 est trouvée\n",
    "for k, v in d.items():\n",
    "    if v == 5:\n",
    "        print(\"C'est la valeur {} pour la clé {}!\".format(v, k))\n",
    "    else:\n",
    "        print(\"La clé {} contient la valeur {}\".format(k, v))"
   ]
  },
  {
   "cell_type": "code",
   "execution_count": 4,
   "metadata": {},
   "outputs": [
    {
     "name": "stdout",
     "output_type": "stream",
     "text": [
      "1^2 = 1\n",
      "2^2 = 4\n",
      "3^2 = 9\n",
      "4^2 = 16\n",
      "5^2 = 25\n",
      "6^2 = 36\n",
      "7^2 = 49\n",
      "8^2 = 64\n",
      "9^2 = 81\n",
      "10^2 = 100\n",
      "\n",
      "1/-10 = -0.1\n",
      "1/-8 = -0.125\n",
      "1/-6 = -0.16666666666666666\n",
      "1/-4 = -0.25\n",
      "1/-2 = -0.5\n",
      "1/2 = 0.5\n",
      "1/4 = 0.25\n",
      "1/6 = 0.16666666666666666\n",
      "1/8 = 0.125\n",
      "1/10 = 0.1\n",
      "\n",
      "random at i=3\n"
     ]
    }
   ],
   "source": [
    "# Loop\n",
    "\n",
    "# 1) Utiliser une boucle pour calculer et afficher les carrés de nombres compris entre 1 et 10\n",
    "for i in range(1,11):\n",
    "    print(\"{}^2 = {}\".format(i, i**2))\n",
    "    \n",
    "# 2) Utiliser une boucle pour calculer et afficher l'inverse des nombres pairs entre -10 et 10 (attention à 0)\n",
    "print()\n",
    "for i in range(-10,12,2):\n",
    "    if i != 0:\n",
    "        print(\"1/{} = {}\".format(i, 1/i)) \n",
    "        \n",
    "# 3) Use a while loop to find the position of the word 'random' in the sentence s\n",
    "print()\n",
    "i = 0\n",
    "while s.split()[i] != \"random\":\n",
    "    i += 1\n",
    "print(\"{} at i={}\".format(s.split()[i], i))"
   ]
  },
  {
   "cell_type": "markdown",
   "metadata": {},
   "source": [
    "### PGCD: Algorythme d'Euclide"
   ]
  },
  {
   "cell_type": "code",
   "execution_count": 5,
   "metadata": {},
   "outputs": [
    {
     "name": "stdout",
     "output_type": "stream",
     "text": [
      "Le PGCD de 669 et 54 vaut 3\n",
      "223 × 3 = 669\n",
      "18 × 3 = 54\n"
     ]
    }
   ],
   "source": [
    "# Calcul du pgcd de deux entiers a et b: \n",
    "#    - on calcule r le reste de la division euclidienne de a par b\n",
    "#    - on remplace a par b et b par r\n",
    "#    - on recommence tant que r != 0\n",
    "#    - le pgcd de a et b et le dernier r non nul\n",
    "\n",
    "# Entiers dont on calcule le PGCD (positifs!!)\n",
    "a = 669\n",
    "b = 54\n",
    "\n",
    "# On teste que a et b soient positifs, si ce n'est pas le cas on affiche un message \n",
    "#     et on ne fait pas la suite de l'algorithme\n",
    "if (a < 0) | (b < 0):\n",
    "    print(\"a et b doivent être supérieurs à 0\")\n",
    "\n",
    "else:\n",
    "    # On teste que a est supérieur à b (on les intervertis dans le cas inverse)\n",
    "    if a < b:\n",
    "        temp = a\n",
    "        a = b\n",
    "        b = temp\n",
    "\n",
    "    # On garde une copie des valeurs initiales\n",
    "    a0 = a\n",
    "    b0 = b\n",
    "\n",
    "    # On boucle jusqu'à ce que le reste soit nul\n",
    "    while b != 0:\n",
    "        # On remplace a par b et b par le reste de la division euclidienne\n",
    "        # de a par b\n",
    "        r = a % b\n",
    "        a = b\n",
    "        b = r\n",
    "        \n",
    "\n",
    "    # On affiche le résultat\n",
    "    print('Le PGCD de', a0, 'et', b0, 'vaut', a)\n",
    "\n",
    "    # Vérifications\n",
    "    print(a0 // a, '×', a, '=', (a0 // a * a))\n",
    "    print(b0 // a, '×', a, '=', (b0 // a * a))"
   ]
  },
  {
   "cell_type": "code",
   "execution_count": 6,
   "metadata": {},
   "outputs": [
    {
     "name": "stdout",
     "output_type": "stream",
     "text": [
      "18\n",
      "\n",
      "a=5 < b=75. Switch them\n",
      "5\n",
      "\n",
      "a et b doivent être supérieurs à 0\n",
      "None\n"
     ]
    }
   ],
   "source": [
    "# Fonctions: Créer une fonction PGCD qui prends en arguments deux entiers,\n",
    "#           effectue les tests sur les valeurs en entrée et retourne le PGCD de ces deux entiers\n",
    "\n",
    "def PGCD(a, b):\n",
    "    if (a <= 0) | (b <= 0):\n",
    "        print(\"a et b doivent être supérieurs à 0\")\n",
    "        return\n",
    "    \n",
    "    if a < b:\n",
    "        print(\"a={} < b={}. Switch them\".format(a, b))\n",
    "        temp = a\n",
    "        a = b\n",
    "        b = temp\n",
    "\n",
    "    # On garde une copie des valeurs initiales\n",
    "    a0 = a\n",
    "    b0 = b\n",
    "\n",
    "    # On boucle jusqu'à ce que le reste soit nul\n",
    "    while b != 0:\n",
    "        # On remplace a par b et b par le reste de la division euclidienne\n",
    "        # de a par b\n",
    "        r = a % b\n",
    "        a = b\n",
    "        b = r\n",
    "\n",
    "    return a\n",
    "\n",
    "# On test la fonction\n",
    "print(PGCD(666, 54))\n",
    "print()\n",
    "print(PGCD(5, 75))\n",
    "print()\n",
    "print(PGCD(0, 0))"
   ]
  },
  {
   "cell_type": "code",
   "execution_count": null,
   "metadata": {},
   "outputs": [],
   "source": []
  }
 ],
 "metadata": {
  "kernelspec": {
   "display_name": "Python 3",
   "language": "python",
   "name": "python3"
  },
  "language_info": {
   "codemirror_mode": {
    "name": "ipython",
    "version": 3
   },
   "file_extension": ".py",
   "mimetype": "text/x-python",
   "name": "python",
   "nbconvert_exporter": "python",
   "pygments_lexer": "ipython3",
   "version": "3.5.2"
  }
 },
 "nbformat": 4,
 "nbformat_minor": 2
}
