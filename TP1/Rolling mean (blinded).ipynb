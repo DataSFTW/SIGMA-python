{
 "cells": [
  {
   "cell_type": "markdown",
   "metadata": {},
   "source": [
    "# Rolling windows mean function"
   ]
  },
  {
   "cell_type": "code",
   "execution_count": null,
   "metadata": {},
   "outputs": [],
   "source": [
    "# import numpy (TO DO) and use an alias 'np'\n",
    "\n",
    "# Set jupyter display in full screen\n",
    "from IPython.core.display import display, HTML\n",
    "display(HTML(\"<style>.container { width:100% !important; }</style>\"))\n",
    "\n",
    "# Import Matplotlib pyplot package to visualize data\n",
    "import matplotlib.pyplot as plt\n",
    "%matplotlib inline"
   ]
  },
  {
   "cell_type": "code",
   "execution_count": null,
   "metadata": {},
   "outputs": [],
   "source": [
    "# Generate data following normal distribution\n",
    "n = 10000 # number of generated points\n",
    "mu = 0    # Mean of the distribution\n",
    "sig = 1   # Standard deviation from the mean\n",
    "\n",
    "# Generate data\n",
    "data = np.random.normal(mu, sig, n)"
   ]
  },
  {
   "cell_type": "markdown",
   "metadata": {},
   "source": [
    "## Rolling Mean\n",
    "\n",
    "Créer une fonction rollingMean qui prends une liste de valeur (un numpy array) et une taille de fenêtre en entrée et retourne les valeurs de la moyennes glissante\n",
    "\n",
    "\n",
    "Vous pouvez commencer par travailler sur un sous-échantillon de valeurs et calculer la moyenne glissante sans utiliser de fonction. Puis créer la fonction correspondante en adaptant le code.\n",
    "\n",
    "Le résultat d'une moyenne glissante sur une liste de valeurs est une liste de valeurs de même dimension"
   ]
  },
  {
   "cell_type": "code",
   "execution_count": null,
   "metadata": {},
   "outputs": [],
   "source": [
    "# Pseudo-code:\n",
    "\n",
    "    # Initialize mean list with numpy NaN variables (according to the size of the windows)\n",
    "    \n",
    "    # Loop over X to compute means and fill mean dict. Be carefull with the loop start and stop\n",
    "    \n",
    "    # Return numpy array with mean values. !! SHALL HAVE SAME DIMENSIONS AS INPUT X !!\n"
   ]
  },
  {
   "cell_type": "code",
   "execution_count": null,
   "metadata": {},
   "outputs": [],
   "source": [
    "# Use Rolling mean fonction on data\n",
    "windows = 100\n",
    "means = rollingMean(data, windows)"
   ]
  },
  {
   "cell_type": "code",
   "execution_count": null,
   "metadata": {},
   "outputs": [],
   "source": [
    "# Check means shape is same as data, print message for both case\n"
   ]
  },
  {
   "cell_type": "code",
   "execution_count": null,
   "metadata": {},
   "outputs": [],
   "source": [
    "# Display results using matplotlib\n",
    "fig, ax = plt.subplots(figsize=(20,10))\n",
    "\n",
    "plt.plot(data, '-', lw=1, label=\"data\")\n",
    "plt.plot(means, '-', lw=1, label=\"mean {}\".format(windows))\n",
    "\n",
    "plt.legend(fontsize=15);"
   ]
  },
  {
   "cell_type": "markdown",
   "metadata": {},
   "source": [
    "## Rolling mean with center option"
   ]
  },
  {
   "cell_type": "code",
   "execution_count": null,
   "metadata": {},
   "outputs": [],
   "source": [
    "# Rolling mean with centering option (new argument: centering: true or false)\n",
    "#   e.g. instead of given the mean value of X point at the location of the Xth point, \n",
    "#        center (round) the mean value in the current windows\n",
    "\n",
    "# Créer une fonction rollingMeanWithCentering qui calcule la moyenne glissante d'un jeu de valeurs avec une option permettant de centrer le résultat\n",
    "\n",
    "# Pseudo Code\n",
    "    # Initialize mean list with numpy NaN variables (according to the size of the windows and centering option)\n",
    "\n",
    "    # Loop over X to compute means and fill mean dict. Be carefull with the loop start and stop\n",
    "        \n",
    "    # fill last missing value of mean list with NaN\n",
    "\n",
    "    # Return numpy array with mean values. !! SHALL HAVE SAME DIMENSIONS AS INPUT X !!"
   ]
  },
  {
   "cell_type": "code",
   "execution_count": null,
   "metadata": {},
   "outputs": [],
   "source": [
    "# Use new rolling mean function with center option True and False\n",
    "windows = 4\n",
    "meansCentered = rollingMeanWithCentering(data, windows, True)\n",
    "meansUncentered = rollingMeanWithCentering(data, windows, False)"
   ]
  },
  {
   "cell_type": "code",
   "execution_count": null,
   "metadata": {},
   "outputs": [],
   "source": [
    "# Display 10th points using matplotlib\n",
    "fig, ax = plt.subplots(figsize=(20,10))\n",
    "\n",
    "plt.plot(data[:10], 'o-', lw=1, label=\"data\")\n",
    "plt.plot(meansCentered[:10], 'o-', lw=1, label=\"mean {} (centered)\".format(windows))\n",
    "plt.plot(meansUncentered[:10], 'o-', lw=1, label=\"mean {} (un-centered)\".format(windows))\n",
    "\n",
    "plt.legend(fontsize=15);"
   ]
  },
  {
   "cell_type": "code",
   "execution_count": null,
   "metadata": {},
   "outputs": [],
   "source": []
  }
 ],
 "metadata": {
  "kernelspec": {
   "display_name": "Python 3",
   "language": "python",
   "name": "python3"
  },
  "language_info": {
   "codemirror_mode": {
    "name": "ipython",
    "version": 3
   },
   "file_extension": ".py",
   "mimetype": "text/x-python",
   "name": "python",
   "nbconvert_exporter": "python",
   "pygments_lexer": "ipython3",
   "version": "3.5.2"
  }
 },
 "nbformat": 4,
 "nbformat_minor": 2
}
