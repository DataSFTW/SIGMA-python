{
 "cells": [
  {
   "cell_type": "markdown",
   "metadata": {},
   "source": [
    "# Préparation à l'examen de python pour l'analyse de données"
   ]
  },
  {
   "cell_type": "markdown",
   "metadata": {},
   "source": [
    "### Le but est de vous faire manipuler python et pandas sur un jeu de données fourni. Les différentes questions nécessitent d'utiliser des attributs et des méthodes de DataFrame que vous n'avez pas vu en cours. A vous de chercher dans la doc ou sur internet comment réaliser certaines étapes.\n",
    "### On va s'intéresser au cas d'une élection pour laquelle cinq candidats sont présents. Chaque votant attribue un score entre 0 et 10 à chaque candidat. On va alors tester différents modes de scrutin et voir leur influence sur le vainqueur des élections"
   ]
  },
  {
   "cell_type": "code",
   "execution_count": null,
   "metadata": {},
   "outputs": [],
   "source": [
    "import numpy as np\n",
    "import pandas as pd\n",
    "import matplotlib.pyplot as plt"
   ]
  },
  {
   "cell_type": "markdown",
   "metadata": {},
   "source": [
    "### Q0 : importez le fichier votes.csv dans un DataFrame et affichez les 5 premières lignes"
   ]
  },
  {
   "cell_type": "code",
   "execution_count": null,
   "metadata": {},
   "outputs": [],
   "source": []
  },
  {
   "cell_type": "code",
   "execution_count": null,
   "metadata": {},
   "outputs": [],
   "source": []
  },
  {
   "cell_type": "markdown",
   "metadata": {},
   "source": [
    "### Q1 : créez une fonction appelée n_votants qui prend en paramètre le DataFrame des votes, et retourne le nombre de votants"
   ]
  },
  {
   "cell_type": "code",
   "execution_count": null,
   "metadata": {},
   "outputs": [],
   "source": []
  },
  {
   "cell_type": "code",
   "execution_count": null,
   "metadata": {},
   "outputs": [],
   "source": []
  },
  {
   "cell_type": "markdown",
   "metadata": {},
   "source": [
    "### Q2 : La première méthode de scrutin que l'on va étudier est une simple somme des scores. Pour chaque candidat, on fait la somme des scores attribués par chaque votant et le vainqueur est le candidat obtenant le score le plus haut. Indice : pensez à utiliser la méthode idxmax\n",
    "### Créez une fonction appliquant ce mode de scrutin"
   ]
  },
  {
   "cell_type": "code",
   "execution_count": null,
   "metadata": {},
   "outputs": [],
   "source": []
  },
  {
   "cell_type": "code",
   "execution_count": null,
   "metadata": {},
   "outputs": [],
   "source": []
  },
  {
   "cell_type": "markdown",
   "metadata": {},
   "source": [
    "### Q3 : On s'intéresse maintenant au scrutin uninominal majoritaire à 1 et 2 tours. Pour chaque candidat, on compte le nombre de fois où celui-ci arrive en tête des votes de chaque votant. Dans un scrutin à un tour, le vainqueur est celui arrivant en tête le plus grand nombre de fois. Dans un scrutin à deux tours, on sélectionne d'abord les deux candidats arrivant en tête le plus grand nombre de fois, puis on répète le décompte entre ces deux candidats restants. Le vainqueur est celui arrivent le plus souvent devant son adversaire.\n",
    "\n",
    "### Créez une fonction appliquant le scrutin uninominal majoritaire à 1 ou 2 tours, le nombre de tours étant un paramètre de cette fonction"
   ]
  },
  {
   "cell_type": "code",
   "execution_count": null,
   "metadata": {},
   "outputs": [],
   "source": []
  },
  {
   "cell_type": "code",
   "execution_count": null,
   "metadata": {},
   "outputs": [],
   "source": []
  },
  {
   "cell_type": "code",
   "execution_count": null,
   "metadata": {},
   "outputs": [],
   "source": []
  },
  {
   "cell_type": "code",
   "execution_count": null,
   "metadata": {},
   "outputs": [],
   "source": []
  },
  {
   "cell_type": "code",
   "execution_count": null,
   "metadata": {},
   "outputs": [],
   "source": []
  },
  {
   "cell_type": "code",
   "execution_count": null,
   "metadata": {},
   "outputs": [],
   "source": []
  },
  {
   "cell_type": "markdown",
   "metadata": {},
   "source": [
    "### Q4 : On s'intéresse maintenant au scrutin par jugement majoritaire. Chaque score attribué par les votants est transformé en mention : \"rejeté\" pour 0, \"très insuffisant\" entre 1 et 2, \"insuffisant\" entre 3 et 4, \"passable\" entre 5 et 6, \"bien\" entre 7 et 8, \"très bien\" entre 9 et 10. On commence par faire le total du nombre d'apparitions de chaque mention pour chaque candidat. On calcule ensuite la mention médiane (ou mention majoritaire) de chaque candidat selon le principe décrit dans cet article : https://fr.wikipedia.org/wiki/Jugement_majoritaire\n",
    "\n",
    "### Créez une fonction appliquant le scrutin par jugement majoritaire. En cas d'égalité, retournez simplement celui ayant le plus d'électeurs attribuant au moins la mention majoritaire"
   ]
  },
  {
   "cell_type": "code",
   "execution_count": null,
   "metadata": {},
   "outputs": [],
   "source": []
  },
  {
   "cell_type": "code",
   "execution_count": null,
   "metadata": {},
   "outputs": [],
   "source": []
  },
  {
   "cell_type": "code",
   "execution_count": null,
   "metadata": {},
   "outputs": [],
   "source": []
  },
  {
   "cell_type": "markdown",
   "metadata": {},
   "source": [
    "### Q5 : Créez une classe scrutin s'initialisant avec un fichier de votes et proposant les différents modes scrutins comme méthode"
   ]
  },
  {
   "cell_type": "code",
   "execution_count": null,
   "metadata": {},
   "outputs": [],
   "source": []
  },
  {
   "cell_type": "code",
   "execution_count": null,
   "metadata": {},
   "outputs": [],
   "source": []
  },
  {
   "cell_type": "code",
   "execution_count": null,
   "metadata": {},
   "outputs": [],
   "source": []
  },
  {
   "cell_type": "code",
   "execution_count": null,
   "metadata": {},
   "outputs": [],
   "source": []
  },
  {
   "cell_type": "code",
   "execution_count": null,
   "metadata": {},
   "outputs": [],
   "source": []
  },
  {
   "cell_type": "code",
   "execution_count": null,
   "metadata": {},
   "outputs": [],
   "source": []
  },
  {
   "cell_type": "code",
   "execution_count": null,
   "metadata": {},
   "outputs": [],
   "source": []
  },
  {
   "cell_type": "code",
   "execution_count": null,
   "metadata": {},
   "outputs": [],
   "source": []
  },
  {
   "cell_type": "code",
   "execution_count": null,
   "metadata": {},
   "outputs": [],
   "source": []
  }
 ],
 "metadata": {
  "kernelspec": {
   "display_name": "Python 3",
   "language": "python",
   "name": "python3"
  },
  "language_info": {
   "codemirror_mode": {
    "name": "ipython",
    "version": 3
   },
   "file_extension": ".py",
   "mimetype": "text/x-python",
   "name": "python",
   "nbconvert_exporter": "python",
   "pygments_lexer": "ipython3",
   "version": "3.7.4"
  }
 },
 "nbformat": 4,
 "nbformat_minor": 2
}
