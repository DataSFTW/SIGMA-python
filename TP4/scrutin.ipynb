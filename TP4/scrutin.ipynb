{
 "cells": [
  {
   "cell_type": "markdown",
   "metadata": {},
   "source": [
    "# Préparation à l'examen de python pour l'analyse de données"
   ]
  },
  {
   "cell_type": "markdown",
   "metadata": {},
   "source": [
    "### Le but est de vous faire manipuler python et pandas sur un jeu de données fourni. Les différentes questions nécessitent d'utiliser des attributs et des méthodes de DataFrame que vous n'avez pas vu en cours. A vous de chercher dans la doc ou sur internet comment réaliser certaines étapes.\n",
    "### On va s'intéresser au cas d'une élection pour laquelle cinq candidats sont présents. Chaque votant attribue un score entre 0 et 10 à chaque candidat. On va alors tester différents modes de scrutin et voir leur influence sur le vainqueur des élections"
   ]
  },
  {
   "cell_type": "code",
   "execution_count": 1,
   "metadata": {},
   "outputs": [],
   "source": [
    "import numpy as np\n",
    "import pandas as pd\n",
    "import matplotlib.pyplot as plt"
   ]
  },
  {
   "cell_type": "markdown",
   "metadata": {},
   "source": [
    "### Q0 : importez le fichier votes.csv dans un DataFrame et affichez les 5 premières lignes"
   ]
  },
  {
   "cell_type": "code",
   "execution_count": 20,
   "metadata": {},
   "outputs": [],
   "source": [
    "votes = pd.read_csv('votes.csv', index_col=0)"
   ]
  },
  {
   "cell_type": "code",
   "execution_count": 21,
   "metadata": {},
   "outputs": [
    {
     "data": {
      "text/html": [
       "<div>\n",
       "<style scoped>\n",
       "    .dataframe tbody tr th:only-of-type {\n",
       "        vertical-align: middle;\n",
       "    }\n",
       "\n",
       "    .dataframe tbody tr th {\n",
       "        vertical-align: top;\n",
       "    }\n",
       "\n",
       "    .dataframe thead th {\n",
       "        text-align: right;\n",
       "    }\n",
       "</style>\n",
       "<table border=\"1\" class=\"dataframe\">\n",
       "  <thead>\n",
       "    <tr style=\"text-align: right;\">\n",
       "      <th></th>\n",
       "      <th>candidat_1</th>\n",
       "      <th>candidat_2</th>\n",
       "      <th>candidat_3</th>\n",
       "      <th>candidat_4</th>\n",
       "      <th>candidat_5</th>\n",
       "    </tr>\n",
       "  </thead>\n",
       "  <tbody>\n",
       "    <tr>\n",
       "      <td>votant_0</td>\n",
       "      <td>2</td>\n",
       "      <td>8</td>\n",
       "      <td>4</td>\n",
       "      <td>9</td>\n",
       "      <td>1</td>\n",
       "    </tr>\n",
       "    <tr>\n",
       "      <td>votant_1</td>\n",
       "      <td>5</td>\n",
       "      <td>4</td>\n",
       "      <td>1</td>\n",
       "      <td>2</td>\n",
       "      <td>9</td>\n",
       "    </tr>\n",
       "    <tr>\n",
       "      <td>votant_2</td>\n",
       "      <td>8</td>\n",
       "      <td>1</td>\n",
       "      <td>7</td>\n",
       "      <td>0</td>\n",
       "      <td>6</td>\n",
       "    </tr>\n",
       "    <tr>\n",
       "      <td>votant_3</td>\n",
       "      <td>8</td>\n",
       "      <td>4</td>\n",
       "      <td>7</td>\n",
       "      <td>2</td>\n",
       "      <td>1</td>\n",
       "    </tr>\n",
       "    <tr>\n",
       "      <td>votant_4</td>\n",
       "      <td>5</td>\n",
       "      <td>7</td>\n",
       "      <td>8</td>\n",
       "      <td>0</td>\n",
       "      <td>4</td>\n",
       "    </tr>\n",
       "  </tbody>\n",
       "</table>\n",
       "</div>"
      ],
      "text/plain": [
       "          candidat_1  candidat_2  candidat_3  candidat_4  candidat_5\n",
       "votant_0           2           8           4           9           1\n",
       "votant_1           5           4           1           2           9\n",
       "votant_2           8           1           7           0           6\n",
       "votant_3           8           4           7           2           1\n",
       "votant_4           5           7           8           0           4"
      ]
     },
     "execution_count": 21,
     "metadata": {},
     "output_type": "execute_result"
    }
   ],
   "source": [
    "votes.head()"
   ]
  },
  {
   "cell_type": "markdown",
   "metadata": {},
   "source": [
    "### Q1 : créez une fonction appelée n_votants qui prend en paramètre le DataFrame des votes, et retourne le nombre de votants"
   ]
  },
  {
   "cell_type": "code",
   "execution_count": 22,
   "metadata": {},
   "outputs": [],
   "source": [
    "def n_votants(df):\n",
    "    \"\"\"\n",
    "    Retourne le nombre de votants\n",
    "    \n",
    "    Parameters:\n",
    "    df (DataFrame): DataFrame des votes\n",
    "    \n",
    "    Returns:\n",
    "    int: nombre de votants\n",
    "    \"\"\"\n",
    "    \n",
    "    return len(df)"
   ]
  },
  {
   "cell_type": "code",
   "execution_count": 23,
   "metadata": {},
   "outputs": [
    {
     "data": {
      "text/plain": [
       "1000"
      ]
     },
     "execution_count": 23,
     "metadata": {},
     "output_type": "execute_result"
    }
   ],
   "source": [
    "n_votants(votes)"
   ]
  },
  {
   "cell_type": "markdown",
   "metadata": {},
   "source": [
    "### Q2 : La première méthode de scrutin que l'on va étudier est une simple somme des scores. Pour chaque candidat, on fait la somme des scores attribués par chaque votant et le vainqueur est le candidat obtenant le score le plus haut. Indice : pensez à utiliser la méthode idxmax\n",
    "### Créez une fonction appliquant ce mode de scrutin"
   ]
  },
  {
   "cell_type": "code",
   "execution_count": 26,
   "metadata": {},
   "outputs": [],
   "source": [
    "def somme_score(df):\n",
    "    \"\"\"\n",
    "    Retourne le vainqueur du scrutin par somme des scores\n",
    "    \n",
    "    Parameters:\n",
    "    df (DataFrame): DataFrame des votes\n",
    "    \n",
    "    Returns:\n",
    "    string: vainqueur du scrutin\n",
    "    \"\"\"\n",
    "    \n",
    "    vainqueur = df.sum().idxmax()\n",
    "    \n",
    "    return vainqueur"
   ]
  },
  {
   "cell_type": "code",
   "execution_count": 27,
   "metadata": {},
   "outputs": [
    {
     "data": {
      "text/plain": [
       "'candidat_3'"
      ]
     },
     "execution_count": 27,
     "metadata": {},
     "output_type": "execute_result"
    }
   ],
   "source": [
    "somme_score(votes)"
   ]
  },
  {
   "cell_type": "markdown",
   "metadata": {},
   "source": [
    "### Q3 : On s'intéresse maintenant au scrutin uninominal majoritaire à 1 et 2 tours. Pour chaque candidat, on compte le nombre de fois où celui-ci arrive en tête des votes de chaque votant. Dans un scrutin à un tour, le vainqueur est celui arrivant en tête le plus grand nombre de fois. Dans un scrutin à deux tours, on sélectionne d'abord les deux candidats arrivant en tête le plus grand nombre de fois, puis on répète le décompte entre ces deux candidats restants. Le vainqueur est celui arrivent le plus souvent devant son adversaire.\n",
    "\n",
    "### Créez une fonction appliquant le scrutin uninominal majoritaire à 1 ou 2 tours, le nombre de tours étant un paramètre de cette fonction"
   ]
  },
  {
   "cell_type": "code",
   "execution_count": 35,
   "metadata": {},
   "outputs": [
    {
     "data": {
      "text/plain": [
       "votant_0      candidat_4\n",
       "votant_1      candidat_5\n",
       "votant_2      candidat_1\n",
       "votant_3      candidat_1\n",
       "votant_4      candidat_3\n",
       "                 ...    \n",
       "votant_995    candidat_1\n",
       "votant_996    candidat_2\n",
       "votant_997    candidat_4\n",
       "votant_998    candidat_5\n",
       "votant_999    candidat_4\n",
       "Length: 1000, dtype: object"
      ]
     },
     "execution_count": 35,
     "metadata": {},
     "output_type": "execute_result"
    }
   ],
   "source": [
    "votes.idxmax(axis=1)"
   ]
  },
  {
   "cell_type": "code",
   "execution_count": 36,
   "metadata": {},
   "outputs": [
    {
     "data": {
      "text/plain": [
       "candidat_4    211\n",
       "candidat_3    204\n",
       "candidat_1    203\n",
       "candidat_5    191\n",
       "candidat_2    191\n",
       "dtype: int64"
      ]
     },
     "execution_count": 36,
     "metadata": {},
     "output_type": "execute_result"
    }
   ],
   "source": [
    "votes.idxmax(axis=1).value_counts()"
   ]
  },
  {
   "cell_type": "code",
   "execution_count": 37,
   "metadata": {},
   "outputs": [
    {
     "data": {
      "text/plain": [
       "'candidat_4'"
      ]
     },
     "execution_count": 37,
     "metadata": {},
     "output_type": "execute_result"
    }
   ],
   "source": [
    "votes.idxmax(axis=1).value_counts().idxmax()"
   ]
  },
  {
   "cell_type": "code",
   "execution_count": 42,
   "metadata": {},
   "outputs": [
    {
     "data": {
      "text/plain": [
       "Index(['candidat_4', 'candidat_3'], dtype='object')"
      ]
     },
     "execution_count": 42,
     "metadata": {},
     "output_type": "execute_result"
    }
   ],
   "source": [
    "votes.idxmax(axis=1).value_counts().sort_values(ascending=False).index[0:2]"
   ]
  },
  {
   "cell_type": "code",
   "execution_count": 43,
   "metadata": {},
   "outputs": [],
   "source": [
    "votes_final = votes[votes.idxmax(axis=1).value_counts().index[0:2]]"
   ]
  },
  {
   "cell_type": "code",
   "execution_count": 44,
   "metadata": {},
   "outputs": [
    {
     "data": {
      "text/html": [
       "<div>\n",
       "<style scoped>\n",
       "    .dataframe tbody tr th:only-of-type {\n",
       "        vertical-align: middle;\n",
       "    }\n",
       "\n",
       "    .dataframe tbody tr th {\n",
       "        vertical-align: top;\n",
       "    }\n",
       "\n",
       "    .dataframe thead th {\n",
       "        text-align: right;\n",
       "    }\n",
       "</style>\n",
       "<table border=\"1\" class=\"dataframe\">\n",
       "  <thead>\n",
       "    <tr style=\"text-align: right;\">\n",
       "      <th></th>\n",
       "      <th>candidat_4</th>\n",
       "      <th>candidat_3</th>\n",
       "    </tr>\n",
       "  </thead>\n",
       "  <tbody>\n",
       "    <tr>\n",
       "      <td>votant_0</td>\n",
       "      <td>9</td>\n",
       "      <td>4</td>\n",
       "    </tr>\n",
       "    <tr>\n",
       "      <td>votant_1</td>\n",
       "      <td>2</td>\n",
       "      <td>1</td>\n",
       "    </tr>\n",
       "    <tr>\n",
       "      <td>votant_2</td>\n",
       "      <td>0</td>\n",
       "      <td>7</td>\n",
       "    </tr>\n",
       "    <tr>\n",
       "      <td>votant_3</td>\n",
       "      <td>2</td>\n",
       "      <td>7</td>\n",
       "    </tr>\n",
       "    <tr>\n",
       "      <td>votant_4</td>\n",
       "      <td>0</td>\n",
       "      <td>8</td>\n",
       "    </tr>\n",
       "    <tr>\n",
       "      <td>...</td>\n",
       "      <td>...</td>\n",
       "      <td>...</td>\n",
       "    </tr>\n",
       "    <tr>\n",
       "      <td>votant_995</td>\n",
       "      <td>0</td>\n",
       "      <td>3</td>\n",
       "    </tr>\n",
       "    <tr>\n",
       "      <td>votant_996</td>\n",
       "      <td>3</td>\n",
       "      <td>7</td>\n",
       "    </tr>\n",
       "    <tr>\n",
       "      <td>votant_997</td>\n",
       "      <td>8</td>\n",
       "      <td>4</td>\n",
       "    </tr>\n",
       "    <tr>\n",
       "      <td>votant_998</td>\n",
       "      <td>4</td>\n",
       "      <td>8</td>\n",
       "    </tr>\n",
       "    <tr>\n",
       "      <td>votant_999</td>\n",
       "      <td>8</td>\n",
       "      <td>0</td>\n",
       "    </tr>\n",
       "  </tbody>\n",
       "</table>\n",
       "<p>1000 rows × 2 columns</p>\n",
       "</div>"
      ],
      "text/plain": [
       "            candidat_4  candidat_3\n",
       "votant_0             9           4\n",
       "votant_1             2           1\n",
       "votant_2             0           7\n",
       "votant_3             2           7\n",
       "votant_4             0           8\n",
       "...                ...         ...\n",
       "votant_995           0           3\n",
       "votant_996           3           7\n",
       "votant_997           8           4\n",
       "votant_998           4           8\n",
       "votant_999           8           0\n",
       "\n",
       "[1000 rows x 2 columns]"
      ]
     },
     "execution_count": 44,
     "metadata": {},
     "output_type": "execute_result"
    }
   ],
   "source": [
    "votes_final"
   ]
  },
  {
   "cell_type": "markdown",
   "metadata": {},
   "source": [
    "### Q4 : On s'intéresse maintenant au scrutin par jugement majoritaire. Chaque score attribué par les votants est transformé en mention : \"rejeté\" pour 0, \"très insuffisant\" entre 1 et 2, \"insuffisant\" entre 3 et 4, \"passable\" entre 5 et 6, \"bien\" entre 7 et 8, \"très bien\" entre 9 et 10. On commence par faire le total du nombre d'apparitions de chaque mention pour chaque candidat. On calcule ensuite la mention médiane (ou mention majoritaire) de chaque candidat selon le principe décrit dans cet article : https://fr.wikipedia.org/wiki/Jugement_majoritaire\n",
    "\n",
    "### Créez une fonction appliquant le scrutin par jugement majoritaire. En cas d'égalité, retournez simplement celui ayant le plus d'électeurs attribuant au moins la mention majoritaire"
   ]
  },
  {
   "cell_type": "code",
   "execution_count": null,
   "metadata": {},
   "outputs": [],
   "source": []
  },
  {
   "cell_type": "code",
   "execution_count": null,
   "metadata": {},
   "outputs": [],
   "source": []
  },
  {
   "cell_type": "code",
   "execution_count": null,
   "metadata": {},
   "outputs": [],
   "source": []
  },
  {
   "cell_type": "markdown",
   "metadata": {},
   "source": [
    "### Q5 : Créez une classe scrutin s'initialisant avec un fichier de votes et proposant les différents modes scrutins comme méthode"
   ]
  },
  {
   "cell_type": "code",
   "execution_count": null,
   "metadata": {},
   "outputs": [],
   "source": []
  },
  {
   "cell_type": "code",
   "execution_count": null,
   "metadata": {},
   "outputs": [],
   "source": []
  },
  {
   "cell_type": "code",
   "execution_count": null,
   "metadata": {},
   "outputs": [],
   "source": []
  },
  {
   "cell_type": "code",
   "execution_count": null,
   "metadata": {},
   "outputs": [],
   "source": []
  },
  {
   "cell_type": "code",
   "execution_count": null,
   "metadata": {},
   "outputs": [],
   "source": []
  },
  {
   "cell_type": "code",
   "execution_count": null,
   "metadata": {},
   "outputs": [],
   "source": []
  },
  {
   "cell_type": "code",
   "execution_count": null,
   "metadata": {},
   "outputs": [],
   "source": []
  },
  {
   "cell_type": "code",
   "execution_count": null,
   "metadata": {},
   "outputs": [],
   "source": []
  },
  {
   "cell_type": "code",
   "execution_count": null,
   "metadata": {},
   "outputs": [],
   "source": []
  }
 ],
 "metadata": {
  "kernelspec": {
   "display_name": "Python 3",
   "language": "python",
   "name": "python3"
  },
  "language_info": {
   "codemirror_mode": {
    "name": "ipython",
    "version": 3
   },
   "file_extension": ".py",
   "mimetype": "text/x-python",
   "name": "python",
   "nbconvert_exporter": "python",
   "pygments_lexer": "ipython3",
   "version": "3.7.4"
  }
 },
 "nbformat": 4,
 "nbformat_minor": 2
}
